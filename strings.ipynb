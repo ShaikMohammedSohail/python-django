{
 "cells": [
  {
   "cell_type": "code",
   "execution_count": 2,
   "metadata": {},
   "outputs": [
    {
     "name": "stdout",
     "output_type": "stream",
     "text": [
      "1831967351856\n",
      "1832004435632\n"
     ]
    }
   ],
   "source": [
    "s1 = \"Python\"\n",
    "print(id(s1))\n",
    "s1 = \"Java\"\n",
    "print(id(s1))"
   ]
  },
  {
   "cell_type": "code",
   "execution_count": 4,
   "metadata": {},
   "outputs": [
    {
     "name": "stdout",
     "output_type": "stream",
     "text": [
      " \"Python\" is easy to learn \n"
     ]
    }
   ],
   "source": [
    "s1 = \"\"\" \"Python\" is easy to learn \"\"\"\n",
    "print(s1)"
   ]
  },
  {
   "cell_type": "code",
   "execution_count": 6,
   "metadata": {},
   "outputs": [
    {
     "name": "stdout",
     "output_type": "stream",
     "text": [
      "e\n",
      "e\n"
     ]
    }
   ],
   "source": [
    "s1 = \"Python is easy to learn\"\n",
    "print(s1[10])\n",
    "print(s1[-13])"
   ]
  },
  {
   "cell_type": "code",
   "execution_count": 8,
   "metadata": {},
   "outputs": [
    {
     "name": "stdout",
     "output_type": "stream",
     "text": [
      "thon\n",
      "Python\n",
      "is easy to learn\n"
     ]
    }
   ],
   "source": [
    "s1 = \"Python is easy to learn\"\n",
    "print(s1[2:6])\n",
    "print(s1[:6])\n",
    "print(s1[7:])"
   ]
  },
  {
   "cell_type": "code",
   "execution_count": 10,
   "metadata": {},
   "outputs": [
    {
     "name": "stdout",
     "output_type": "stream",
     "text": [
      "nrael ot ysae si nohtyP\n"
     ]
    }
   ],
   "source": [
    "s1 = \"Python is easy to learn\"\n",
    "print(s1[::-1])"
   ]
  },
  {
   "cell_type": "code",
   "execution_count": 12,
   "metadata": {},
   "outputs": [
    {
     "name": "stdout",
     "output_type": "stream",
     "text": [
      "nohty\n"
     ]
    }
   ],
   "source": [
    "s1 = \"Python is easy to learn\"\n",
    "print(s1[5:0:-1])"
   ]
  },
  {
   "cell_type": "code",
   "execution_count": 14,
   "metadata": {},
   "outputs": [
    {
     "name": "stdout",
     "output_type": "stream",
     "text": [
      "HloPto!\n"
     ]
    }
   ],
   "source": [
    "s1 = \"Hello Python!!!\"\n",
    "print(s1[:-1:2])"
   ]
  },
  {
   "cell_type": "code",
   "execution_count": 16,
   "metadata": {},
   "outputs": [
    {
     "name": "stdout",
     "output_type": "stream",
     "text": [
      "PythonJava\n",
      "PythonPython\n"
     ]
    }
   ],
   "source": [
    "s1 = \"Python\"\n",
    "s2 = \"Java\"\n",
    "print(s1 + s2)\n",
    "# print(s1 - s2) => Not supported \n",
    "print(2 * s1)"
   ]
  },
  {
   "cell_type": "code",
   "execution_count": 18,
   "metadata": {},
   "outputs": [
    {
     "name": "stdout",
     "output_type": "stream",
     "text": [
      "['__add__', '__class__', '__contains__', '__delattr__', '__dir__', '__doc__', '__eq__', '__format__', '__ge__', '__getattribute__', '__getitem__', '__getnewargs__', '__gt__', '__hash__', '__init__', '__init_subclass__', '__iter__', '__le__', '__len__', '__lt__', '__mod__', '__mul__', '__ne__', '__new__', '__reduce__', '__reduce_ex__', '__repr__', '__rmod__', '__rmul__', '__setattr__', '__sizeof__', '__str__', '__subclasshook__', 'capitalize', 'casefold', 'center', 'count', 'encode', 'endswith', 'expandtabs', 'find', 'format', 'format_map', 'index', 'isalnum', 'isalpha', 'isascii', 'isdecimal', 'isdigit', 'isidentifier', 'islower', 'isnumeric', 'isprintable', 'isspace', 'istitle', 'isupper', 'join', 'ljust', 'lower', 'lstrip', 'maketrans', 'partition', 'replace', 'rfind', 'rindex', 'rjust', 'rpartition', 'rsplit', 'rstrip', 'split', 'splitlines', 'startswith', 'strip', 'swapcase', 'title', 'translate', 'upper', 'zfill']\n"
     ]
    }
   ],
   "source": [
    "print(dir(str))"
   ]
  },
  {
   "cell_type": "code",
   "execution_count": 20,
   "metadata": {},
   "outputs": [
    {
     "name": "stdout",
     "output_type": "stream",
     "text": [
      "the value of num1 is 100 and value for num2 is 200\n"
     ]
    }
   ],
   "source": [
    "num1 = 100\n",
    "num2 = 200\n",
    "print(\"the value of num1 is\",num1,\"and value for num2 is\",num2)"
   ]
  },
  {
   "cell_type": "code",
   "execution_count": 22,
   "metadata": {},
   "outputs": [
    {
     "name": "stdout",
     "output_type": "stream",
     "text": [
      "the value for num1 is 200 and value for num2 is 100\n"
     ]
    }
   ],
   "source": [
    "num1 = 100\n",
    "num2 = 200\n",
    "s1 = \"the value for num1 is {1} and value for num2 is {0}\".format(num1,num2)\n",
    "print(s1)"
   ]
  },
  {
   "cell_type": "code",
   "execution_count": 24,
   "metadata": {},
   "outputs": [
    {
     "name": "stdout",
     "output_type": "stream",
     "text": [
      "received an entry from user abc with email abc@gmail.com\n"
     ]
    }
   ],
   "source": [
    "n = \"abc\"\n",
    "e = \"abc@gmail.com\"\n",
    "subject = \"received an entry from user {name} with email {email}\".format(name=n,email =e)\n",
    "print(subject)"
   ]
  },
  {
   "cell_type": "code",
   "execution_count": 26,
   "metadata": {},
   "outputs": [
    {
     "name": "stdout",
     "output_type": "stream",
     "text": [
      "['python', 'java', 'c', 'c++', 'r']\n",
      "python java c c++ r\n"
     ]
    }
   ],
   "source": [
    "# split and join\n",
    "s = \"python,java,c,c++,r\"\n",
    "l = s.split(\",\")\n",
    "print(l)\n",
    "\n",
    "s1 = (\" \").join(l)\n",
    "print(s1)"
   ]
  },
  {
   "cell_type": "code",
   "execution_count": 30,
   "metadata": {},
   "outputs": [
    {
     "name": "stdout",
     "output_type": "stream",
     "text": [
      "r, c++, c, java, python\n"
     ]
    }
   ],
   "source": [
    "s = \"python,java,c,c++,r\"\n",
    "# s1 = \"r,c++,c,java,python\"\n",
    "l = s.split(\",\")\n",
    "s2 = (\", \").join(l[::-1])\n",
    "print(s2)"
   ]
  },
  {
   "cell_type": "code",
   "execution_count": 34,
   "metadata": {},
   "outputs": [
    {
     "name": "stdout",
     "output_type": "stream",
     "text": [
      "True\n",
      "7\n",
      "7\n",
      "20\n",
      "20\n",
      "python 3.8,java,c,c++,r,java,python 3.8\n",
      "4\n"
     ]
    }
   ],
   "source": [
    "s = \"python,java,c,c++,r,java,python\"\n",
    "\n",
    "print(\"java\" in s)\n",
    "print(s.find(\"java\"))\n",
    "print(s.index(\"java\"))\n",
    "print(s.rfind(\"java\"))\n",
    "print(s.rindex(\"java\"))\n",
    "\n",
    "s = s.replace(\"python\",\"python 3.8\")\n",
    "print(s)\n",
    "print(s.count(\"a\"))"
   ]
  },
  {
   "cell_type": "code",
   "execution_count": 36,
   "metadata": {},
   "outputs": [
    {
     "name": "stdout",
     "output_type": "stream",
     "text": [
      "r 10\n"
     ]
    }
   ],
   "source": [
    "s = \"abcdaabbeededzzzaaaaarrrrrrrrrr\"\n",
    "max_char = \"\"\n",
    "max_count = 0\n",
    "\n",
    "for value in s:\n",
    "    if s.count(value) > max_count:\n",
    "        max_char = value\n",
    "        max_count = s.count(value)\n",
    "   \n",
    "print(max_char,max_count)"
   ]
  },
  {
   "cell_type": "code",
   "execution_count": 38,
   "metadata": {},
   "outputs": [
    {
     "name": "stdout",
     "output_type": "stream",
     "text": [
      "False\n",
      "python string\n",
      "True\n",
      "PYTHON STRING\n",
      "Python String\n",
      "Python string\n"
     ]
    }
   ],
   "source": [
    "\n",
    "s = \"PYTHON String\"\n",
    "print(s.islower())\n",
    "s2 = s.lower()\n",
    "print(s2)\n",
    "print(s2.islower())\n",
    "\n",
    "s2 = s.upper()\n",
    "print(s2)\n",
    "\n",
    "s2 = s.title()\n",
    "print(s2)\n",
    "\n",
    "s2 = s.capitalize()\n",
    "print(s2)"
   ]
  },
  {
   "cell_type": "code",
   "execution_count": 40,
   "metadata": {},
   "outputs": [
    {
     "name": "stdout",
     "output_type": "stream",
     "text": [
      "False\n",
      "False\n",
      "False\n",
      "True\n"
     ]
    }
   ],
   "source": [
    "s = \"\"\" \"\"\"\n",
    "print(s.isalpha())\n",
    "print(s.isalnum())\n",
    "print(s.isdigit())\n",
    "print(s.isspace())"
   ]
  },
  {
   "cell_type": "code",
   "execution_count": 42,
   "metadata": {},
   "outputs": [
    {
     "name": "stdout",
     "output_type": "stream",
     "text": [
      "   Python Java          \n"
     ]
    }
   ],
   "source": [
    "s = \"   Python Java          \"\n",
    "s1 = s.strip(\"a\")\n",
    "print(s1)"
   ]
  },
  {
   "cell_type": "code",
   "execution_count": 44,
   "metadata": {},
   "outputs": [
    {
     "name": "stdout",
     "output_type": "stream",
     "text": [
      "@@@@@@@Python@@@@@@@\n",
      "Python@@@@@@@@@@@@@@\n",
      "@@@@@@@@@@@@@@Python\n"
     ]
    }
   ],
   "source": [
    "s = \"Python\"\n",
    "s2 = s.center(20,\"@\")\n",
    "print(s2)\n",
    "s2 = s.ljust(20,\"@\")\n",
    "print(s2)\n",
    "s2 = s.rjust(20,\"@\")\n",
    "print(s2)"
   ]
  },
  {
   "cell_type": "code",
   "execution_count": 47,
   "metadata": {},
   "outputs": [
    {
     "name": "stdout",
     "output_type": "stream",
     "text": [
      "LEArnIng pythOn Is EAsy\n"
     ]
    }
   ],
   "source": [
    "s = \"Learning python is easy\"\n",
    "# s2 = \"LEArnIng.....\"\n",
    "\n",
    "for value in s:\n",
    "    if value in \"aeiou\":\n",
    "        s = s.replace(value,value.upper())\n",
    "\n",
    "print(s)"
   ]
  },
  {
   "cell_type": "code",
   "execution_count": null,
   "metadata": {},
   "outputs": [],
   "source": []
  }
 ],
 "metadata": {
  "kernelspec": {
   "display_name": "Python 3",
   "language": "python",
   "name": "python3"
  },
  "language_info": {
   "codemirror_mode": {
    "name": "ipython",
    "version": 3
   },
   "file_extension": ".py",
   "mimetype": "text/x-python",
   "name": "python",
   "nbconvert_exporter": "python",
   "pygments_lexer": "ipython3",
   "version": "3.7.4"
  }
 },
 "nbformat": 4,
 "nbformat_minor": 2
}
