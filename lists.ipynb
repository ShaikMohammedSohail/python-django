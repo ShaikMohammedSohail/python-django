{
 "cells": [
  {
   "cell_type": "code",
   "execution_count": 2,
   "metadata": {},
   "outputs": [
    {
     "name": "stdout",
     "output_type": "stream",
     "text": [
      "10\n",
      "[10, 20, 30, 40]\n"
     ]
    }
   ],
   "source": [
    "l = [10,20,\"Python\",30,40,[10,20,30,40]]\n",
    "print(l[0])\n",
    "print(l[-1])"
   ]
  },
  {
   "cell_type": "code",
   "execution_count": 4,
   "metadata": {},
   "outputs": [
    {
     "name": "stdout",
     "output_type": "stream",
     "text": [
      "3000\n"
     ]
    }
   ],
   "source": [
    "l = [10,20,30,[100,200,300,[1000,2000,3000,4000]]]\n",
    "print(l[-1][-1][2])"
   ]
  },
  {
   "cell_type": "code",
   "execution_count": 6,
   "metadata": {},
   "outputs": [
    {
     "name": "stdout",
     "output_type": "stream",
     "text": [
      "[20, 30, [100, 200, 300, [1000, 2000, 3000, 4000]]]\n",
      "[3000, 2000, 1000]\n"
     ]
    }
   ],
   "source": [
    "l = [10,20,30,[100,200,300,[1000,2000,3000,4000]]]\n",
    "print(l[1:])\n",
    "# print(l[::-1])\n",
    "print(l[-1][-1][2::-1])"
   ]
  },
  {
   "cell_type": "code",
   "execution_count": 8,
   "metadata": {},
   "outputs": [
    {
     "name": "stdout",
     "output_type": "stream",
     "text": [
      "['Python', 'C', 'Java', 'R']\n"
     ]
    }
   ],
   "source": [
    "l = [\"Python\",\"C\",\"Java\"]\n",
    "l.append(\"R\")\n",
    "print(l)"
   ]
  },
  {
   "cell_type": "code",
   "execution_count": 9,
   "metadata": {},
   "outputs": [
    {
     "name": "stdout",
     "output_type": "stream",
     "text": [
      "2652964875400\n",
      "['Python', 'C', 'Java', 'R']\n",
      "2652964875400\n"
     ]
    }
   ],
   "source": [
    "l = [\"Python\",\"C\",\"Java\"]\n",
    "print(id(l))\n",
    "l.append(\"R\")\n",
    "print(l)\n",
    "print(id(l))"
   ]
  },
  {
   "cell_type": "code",
   "execution_count": 11,
   "metadata": {},
   "outputs": [
    {
     "name": "stdout",
     "output_type": "stream",
     "text": [
      "['Python', 'C', 'Java', 'R,Clojure']\n"
     ]
    }
   ],
   "source": [
    "l = [\"Python\",\"C\",\"Java\"]\n",
    "l.append(\"R,Clojure\")\n",
    "print(l)"
   ]
  },
  {
   "cell_type": "code",
   "execution_count": 14,
   "metadata": {},
   "outputs": [
    {
     "name": "stdout",
     "output_type": "stream",
     "text": [
      "['Python', 'C', 'Java', 1000, 2000, 3000]\n"
     ]
    }
   ],
   "source": [
    "l = [\"Python\",\"C\",\"Java\"]\n",
    "# l2 = [\"R\",\"clojure\",\"go\"]\n",
    "l.extend([1000,2000,3000])\n",
    "print(l)"
   ]
  },
  {
   "cell_type": "code",
   "execution_count": 16,
   "metadata": {},
   "outputs": [
    {
     "name": "stdout",
     "output_type": "stream",
     "text": [
      "97 122\n",
      "65 90\n"
     ]
    }
   ],
   "source": [
    "print(ord('a'),ord('z'))\n",
    "print(ord('A'),ord('Z'))"
   ]
  },
  {
   "cell_type": "code",
   "execution_count": 18,
   "metadata": {},
   "outputs": [
    {
     "name": "stdout",
     "output_type": "stream",
     "text": [
      "a z\n",
      "A Z\n"
     ]
    }
   ],
   "source": [
    "print(chr(97),chr(122))\n",
    "print(chr(65),chr(90))\n"
   ]
  },
  {
   "cell_type": "code",
   "execution_count": 20,
   "metadata": {},
   "outputs": [
    {
     "name": "stdout",
     "output_type": "stream",
     "text": [
      "['m', 'n', 'o', 'p', 'q', 'r', 's', 't', 'u', 'v', 'w', 'x', 'y', 'z']\n"
     ]
    }
   ],
   "source": [
    "alpha = []\n",
    "start = 'm'\n",
    "end = 'z'\n",
    "\n",
    "for value in range(ord(start),ord(end)+1):\n",
    "    alpha.append(chr(value))\n",
    "print(alpha)"
   ]
  },
  {
   "cell_type": "code",
   "execution_count": 22,
   "metadata": {},
   "outputs": [
    {
     "name": "stdout",
     "output_type": "stream",
     "text": [
      "[1, 2, 3, 4, 5, 6, 7, 8, 9]\n"
     ]
    }
   ],
   "source": [
    "l1 = [[1,2,3],[4,5,6],[7,8,9]]\n",
    "l2 = []\n",
    "#[1,2,3,4,5,6,7,8,9]\n",
    "for value in l1:\n",
    "    l2.extend(value)\n",
    "print(l2)"
   ]
  },
  {
   "cell_type": "code",
   "execution_count": 24,
   "metadata": {},
   "outputs": [
    {
     "name": "stdout",
     "output_type": "stream",
     "text": [
      "[1, 2, 3, 4, 5, 6, 7, 8, 9]\n"
     ]
    }
   ],
   "source": [
    "l1 = [[1,2,3],[4,5,6],[7,8,9]]\n",
    "l2 = []\n",
    "#[1,2,3,4,5,6,7,8,9]\n",
    "for value in l1:\n",
    "    for value2 in value:\n",
    "        l2.append(value2)\n",
    "        \n",
    "print(l2)"
   ]
  },
  {
   "cell_type": "code",
   "execution_count": 26,
   "metadata": {},
   "outputs": [
    {
     "name": "stdout",
     "output_type": "stream",
     "text": [
      "[[101, 202, 303], [404, 505, 606], [707, 808, 909], [1010, 1110, 1212]]\n"
     ]
    }
   ],
   "source": [
    "l1 = [[1,2,3],[4,5,6],[7,8,9],[10,10,12]]\n",
    "l2 = [[100,200,300],[400,500,600],[700,800,900],[1000,1100,1200]]\n",
    "l3 = []\n",
    "\n",
    "for row_index in range(len(l1)):\n",
    "    temp = []\n",
    "    for col_index in range(len(l1[0])):\n",
    "        temp.append(l1[row_index][col_index] + l2[row_index][col_index])\n",
    "        \n",
    "    l3.append(temp)\n",
    "print(l3)\n",
    "\n",
    "# 1 ietartion \n",
    "# temp  =[]\n",
    "# 1 100 => 101 [101]\n",
    "# 2 200 => 202 [101,202]\n",
    "# 3 300 => 303 [101,202,303]\n",
    "\n",
    "# [4 5 6] [400 500 600]\n",
    "\n",
    "# 4 400 [101 202 303 404 ]"
   ]
  },
  {
   "cell_type": "code",
   "execution_count": 28,
   "metadata": {},
   "outputs": [
    {
     "name": "stdout",
     "output_type": "stream",
     "text": [
      "12 w\n"
     ]
    }
   ],
   "source": [
    "s = \"abcdabbaadccrrrrrrrzzzzzzzzzzwwwwwwwwwwww\"\n",
    "max_count = 0\n",
    "max_char = \"\"\n",
    "l = []\n",
    "for value in s:\n",
    "    if value not in l :\n",
    "        l.append(value)            \n",
    "        if s.count(value) > max_count:\n",
    "            max_char = value\n",
    "            max_count = s.count(value)\n",
    "        \n",
    "print(max_count,max_char)"
   ]
  },
  {
   "cell_type": "code",
   "execution_count": 41,
   "metadata": {},
   "outputs": [
    {
     "name": "stdout",
     "output_type": "stream",
     "text": [
      "[100, 200, 300, 400, 200]\n"
     ]
    }
   ],
   "source": [
    "l = [100,200,300,400]\n",
    "l.insert(20,200)\n",
    "print(l)"
   ]
  },
  {
   "cell_type": "code",
   "execution_count": 43,
   "metadata": {},
   "outputs": [
    {
     "name": "stdout",
     "output_type": "stream",
     "text": [
      "[100, 200, 3000, 400]\n"
     ]
    }
   ],
   "source": [
    "l = [100,200,300,400]\n",
    "l[2] = 3000\n",
    "print(l)"
   ]
  },
  {
   "cell_type": "code",
   "execution_count": 55,
   "metadata": {},
   "outputs": [
    {
     "name": "stdout",
     "output_type": "stream",
     "text": [
      "[10, 20, 40, 50] 30\n"
     ]
    }
   ],
   "source": [
    "l = [10,20,30,40,50]\n",
    "r = l.pop(2)\n",
    "print(l,r)"
   ]
  },
  {
   "cell_type": "code",
   "execution_count": 57,
   "metadata": {},
   "outputs": [
    {
     "name": "stdout",
     "output_type": "stream",
     "text": [
      "[10, 30, 40, 50] None\n"
     ]
    }
   ],
   "source": [
    "l = [10,20,30,40,50]\n",
    "r = l.remove(20)\n",
    "print(l,r)"
   ]
  },
  {
   "cell_type": "code",
   "execution_count": 63,
   "metadata": {},
   "outputs": [
    {
     "name": "stdout",
     "output_type": "stream",
     "text": [
      "[]\n"
     ]
    }
   ],
   "source": [
    "l = [10,20,30,40,50]\n",
    "l.clear()\n",
    "print(l)"
   ]
  },
  {
   "cell_type": "code",
   "execution_count": 67,
   "metadata": {},
   "outputs": [
    {
     "ename": "NameError",
     "evalue": "name 'l' is not defined",
     "output_type": "error",
     "traceback": [
      "\u001b[1;31m---------------------------------------------------------------------------\u001b[0m",
      "\u001b[1;31mNameError\u001b[0m                                 Traceback (most recent call last)",
      "\u001b[1;32m<ipython-input-67-1b9b02f58d4f>\u001b[0m in \u001b[0;36m<module>\u001b[1;34m\u001b[0m\n\u001b[0;32m      1\u001b[0m \u001b[0ml\u001b[0m \u001b[1;33m=\u001b[0m \u001b[1;33m[\u001b[0m\u001b[1;36m10\u001b[0m\u001b[1;33m,\u001b[0m\u001b[1;36m20\u001b[0m\u001b[1;33m,\u001b[0m\u001b[1;36m30\u001b[0m\u001b[1;33m,\u001b[0m\u001b[1;36m40\u001b[0m\u001b[1;33m,\u001b[0m\u001b[1;36m50\u001b[0m\u001b[1;33m]\u001b[0m\u001b[1;33m\u001b[0m\u001b[1;33m\u001b[0m\u001b[0m\n\u001b[0;32m      2\u001b[0m \u001b[1;32mdel\u001b[0m \u001b[0ml\u001b[0m\u001b[1;33m\u001b[0m\u001b[1;33m\u001b[0m\u001b[0m\n\u001b[1;32m----> 3\u001b[1;33m \u001b[0mprint\u001b[0m\u001b[1;33m(\u001b[0m\u001b[0ml\u001b[0m\u001b[1;33m)\u001b[0m\u001b[1;33m\u001b[0m\u001b[1;33m\u001b[0m\u001b[0m\n\u001b[0m",
      "\u001b[1;31mNameError\u001b[0m: name 'l' is not defined"
     ]
    }
   ],
   "source": [
    "l = [10,20,30,40,50]\n",
    "del l\n",
    "print(l)"
   ]
  },
  {
   "cell_type": "code",
   "execution_count": 70,
   "metadata": {},
   "outputs": [
    {
     "name": "stdout",
     "output_type": "stream",
     "text": [
      "[10, 20, 45, 78, 52, 45, 96, 32]\n"
     ]
    }
   ],
   "source": [
    "\n",
    "l = [10,20,45,78,52,45,96,32]\n",
    "l.sort\n",
    "print(l)"
   ]
  },
  {
   "cell_type": "code",
   "execution_count": 82,
   "metadata": {},
   "outputs": [
    {
     "name": "stdout",
     "output_type": "stream",
     "text": [
      "[96, 78, 52, 45, 45, 32, 20, 10]\n"
     ]
    }
   ],
   "source": [
    "l = [10,20,45,78,52,45,96,32]\n",
    "l.sort(reverse = True)\n",
    "print(l)\n"
   ]
  },
  {
   "cell_type": "code",
   "execution_count": 84,
   "metadata": {},
   "outputs": [
    {
     "name": "stdout",
     "output_type": "stream",
     "text": [
      "1\n",
      "3\n"
     ]
    }
   ],
   "source": [
    "l = [10,20,45,78,52,45,45,4596,32]\n",
    "print(l.index(20))\n",
    "print(l.count(45))"
   ]
  },
  {
   "cell_type": "code",
   "execution_count": 88,
   "metadata": {},
   "outputs": [
    {
     "name": "stdout",
     "output_type": "stream",
     "text": [
      "[10, 20, 30]\n",
      "[10, 20, 30, 40]\n"
     ]
    }
   ],
   "source": [
    "l1 = [10,20,30]\n",
    "l2 = [10,20,30]\n",
    "\n",
    "l1.append(40)\n",
    "print(l2)\n",
    "print(l1)"
   ]
  },
  {
   "cell_type": "code",
   "execution_count": 91,
   "metadata": {},
   "outputs": [
    {
     "name": "stdout",
     "output_type": "stream",
     "text": [
      "2652965683272\n",
      "[10, 20, 30, 40, 100, 200, 300, 400]\n",
      "2652966325896\n",
      "[10, 20, 30, 40, 100, 200, 300, 400, 100, 200, 300, 400]\n"
     ]
    }
   ],
   "source": [
    "l1 = [10,20,30,40]\n",
    "print(id(l1))\n",
    "l2 = [100,200,300,400]\n",
    "l1 = l1 + l2\n",
    "print(l1)\n",
    "print(id(l1))\n",
    "l1.extend(l2)\n",
    "print(l1)"
   ]
  },
  {
   "cell_type": "code",
   "execution_count": 93,
   "metadata": {},
   "outputs": [
    {
     "name": "stdout",
     "output_type": "stream",
     "text": [
      "[10, 45, 21, 47, 10, 74, 85, 100, 200, 45, 45, 21, 21, 74, 85]\n",
      "[10, 10, 21, 21, 21, 45, 45, 45, 47, 74, 74, 85, 85, 100, 200]\n",
      "[10, 21, 45, 47, 74, 85, 100, 200]\n"
     ]
    }
   ],
   "source": [
    "l1 = [10,45,21,47,10,74,85]\n",
    "l2 = [100,200,45,45,21,21,74,85]\n",
    "l3 = []\n",
    "# single sorted list which contains only unique elements \n",
    "\n",
    "l1.extend(l2)\n",
    "print(l1)\n",
    "l1.sort()\n",
    "print(l1)\n",
    "\n",
    "# for index,value in enumerate(l1[:-1]):\n",
    "#     print(index)\n",
    "#     print(l1[index],l1[index+1])\n",
    "#     if l1[index] == l1[index +1]:\n",
    "#         l1.pop(index)\n",
    "# print(l1)\n",
    "for value in l1:\n",
    "    if value not in l3:\n",
    "        l3.append(value)\n",
    "print(l3)"
   ]
  },
  {
   "cell_type": "code",
   "execution_count": null,
   "metadata": {},
   "outputs": [],
   "source": []
  }
 ],
 "metadata": {
  "kernelspec": {
   "display_name": "Python 3",
   "language": "python",
   "name": "python3"
  },
  "language_info": {
   "codemirror_mode": {
    "name": "ipython",
    "version": 3
   },
   "file_extension": ".py",
   "mimetype": "text/x-python",
   "name": "python",
   "nbconvert_exporter": "python",
   "pygments_lexer": "ipython3",
   "version": "3.7.4"
  }
 },
 "nbformat": 4,
 "nbformat_minor": 2
}
