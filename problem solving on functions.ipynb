{
 "cells": [
  {
   "cell_type": "code",
   "execution_count": 1,
   "metadata": {},
   "outputs": [],
   "source": [
    "def evenWordsCollector(*args):\n",
    "    l = []\n",
    "    for word in args:\n",
    "        if ifWordEven(word):\n",
    "            l.append(word)\n",
    "    res = ' '.join(l)\n",
    "    return res"
   ]
  },
  {
   "cell_type": "code",
   "execution_count": 4,
   "metadata": {},
   "outputs": [],
   "source": [
    "def ifWordEven(word):\n",
    "    if len(word) % 2 == 0:\n",
    "        return True\n",
    "    else:\n",
    "        return False"
   ]
  },
  {
   "cell_type": "code",
   "execution_count": 6,
   "metadata": {},
   "outputs": [
    {
     "data": {
      "text/plain": [
       "'abcd jklm'"
      ]
     },
     "execution_count": 6,
     "metadata": {},
     "output_type": "execute_result"
    }
   ],
   "source": [
    "evenWordsCollector('abc','def','abcd','jklm')"
   ]
  },
  {
   "cell_type": "code",
   "execution_count": 8,
   "metadata": {},
   "outputs": [
    {
     "data": {
      "text/plain": [
       "True"
      ]
     },
     "execution_count": 8,
     "metadata": {},
     "output_type": "execute_result"
    }
   ],
   "source": [
    "ifWordEven('Hell')"
   ]
  },
  {
   "cell_type": "code",
   "execution_count": 11,
   "metadata": {},
   "outputs": [],
   "source": [
    "#creating list of employee data\n",
    "\n",
    "def createEmpData(list_emps, **kwargs):\n",
    "    list_emps.append(kwargs)\n"
   ]
  },
  {
   "cell_type": "code",
   "execution_count": 13,
   "metadata": {},
   "outputs": [],
   "source": [
    "list_emps = []\n",
    "\n",
    "createEmpData(list_emps, name='abc',age=20)"
   ]
  },
  {
   "cell_type": "code",
   "execution_count": 15,
   "metadata": {},
   "outputs": [
    {
     "data": {
      "text/plain": [
       "[{'name': 'abc', 'age': 20}]"
      ]
     },
     "execution_count": 15,
     "metadata": {},
     "output_type": "execute_result"
    }
   ],
   "source": [
    "list_emps"
   ]
  },
  {
   "cell_type": "code",
   "execution_count": 17,
   "metadata": {},
   "outputs": [],
   "source": [
    "createEmpData(list_emps, name='def',age=20,location='blore')"
   ]
  },
  {
   "cell_type": "code",
   "execution_count": 19,
   "metadata": {},
   "outputs": [
    {
     "data": {
      "text/plain": [
       "[{'name': 'abc', 'age': 20},\n",
       " {'name': 'def', 'age': 20, 'location': 'blore'},\n",
       " {'name': 'def', 'age': 20, 'location': 'blore'}]"
      ]
     },
     "execution_count": 19,
     "metadata": {},
     "output_type": "execute_result"
    }
   ],
   "source": [
    "list_emps"
   ]
  },
  {
   "cell_type": "code",
   "execution_count": 21,
   "metadata": {},
   "outputs": [],
   "source": [
    "createEmpData(list_emps, name='def',age=20,salary=100000)\n",
    "createEmpData(list_emps, name='def',age=20,salary=500000)"
   ]
  },
  {
   "cell_type": "code",
   "execution_count": 23,
   "metadata": {},
   "outputs": [
    {
     "data": {
      "text/plain": [
       "[{'name': 'abc', 'age': 20},\n",
       " {'name': 'def', 'age': 20, 'location': 'blore'},\n",
       " {'name': 'def', 'age': 20, 'location': 'blore'},\n",
       " {'name': 'def', 'age': 20, 'salary': 100000},\n",
       " {'name': 'def', 'age': 20, 'salary': 500000},\n",
       " {'name': 'def', 'age': 20, 'salary': 100000},\n",
       " {'name': 'def', 'age': 20, 'salary': 500000}]"
      ]
     },
     "execution_count": 23,
     "metadata": {},
     "output_type": "execute_result"
    }
   ],
   "source": [
    "list_emps"
   ]
  },
  {
   "cell_type": "code",
   "execution_count": 24,
   "metadata": {},
   "outputs": [],
   "source": [
    "def createStudentData(list_students, **marks):\n",
    "    list_students.append(marks)"
   ]
  },
  {
   "cell_type": "code",
   "execution_count": 26,
   "metadata": {},
   "outputs": [],
   "source": [
    "list_students = []\n",
    "createStudentData(list_students,name='david',maths=80, science=75,english=76)\n",
    "createStudentData(list_students,name='rohit',maths=90, science=85,english=66)\n",
    "createStudentData(list_students,name='raj',maths=40, science=55,english=56)\n",
    "createStudentData(list_students,name='yazhini',maths=80, science=88,english=76)"
   ]
  },
  {
   "cell_type": "code",
   "execution_count": 28,
   "metadata": {},
   "outputs": [
    {
     "data": {
      "text/plain": [
       "[{'name': 'david', 'maths': 80, 'science': 75, 'english': 76},\n",
       " {'name': 'rohit', 'maths': 90, 'science': 85, 'english': 66},\n",
       " {'name': 'raj', 'maths': 40, 'science': 55, 'english': 56},\n",
       " {'name': 'yazhini', 'maths': 80, 'science': 88, 'english': 76}]"
      ]
     },
     "execution_count": 28,
     "metadata": {},
     "output_type": "execute_result"
    }
   ],
   "source": [
    "list_students"
   ]
  },
  {
   "cell_type": "code",
   "execution_count": 31,
   "metadata": {},
   "outputs": [],
   "source": [
    "def calcMarksAvg(list_students):\n",
    "    for student in list_students:\n",
    "        total_marks = 0\n",
    "        count = 0\n",
    "        for k,v in student.items():\n",
    "            if k != 'name':\n",
    "                total_marks += v\n",
    "                count += 1\n",
    "        student['avg'] = total_marks/count"
   ]
  },
  {
   "cell_type": "code",
   "execution_count": 33,
   "metadata": {},
   "outputs": [],
   "source": [
    "calcMarksAvg(list_students)"
   ]
  },
  {
   "cell_type": "code",
   "execution_count": 34,
   "metadata": {},
   "outputs": [
    {
     "data": {
      "text/plain": [
       "[{'name': 'david', 'maths': 80, 'science': 75, 'english': 76, 'avg': 77.0},\n",
       " {'name': 'rohit',\n",
       "  'maths': 90,\n",
       "  'science': 85,\n",
       "  'english': 66,\n",
       "  'avg': 80.33333333333333},\n",
       " {'name': 'raj',\n",
       "  'maths': 40,\n",
       "  'science': 55,\n",
       "  'english': 56,\n",
       "  'avg': 50.333333333333336},\n",
       " {'name': 'yazhini',\n",
       "  'maths': 80,\n",
       "  'science': 88,\n",
       "  'english': 76,\n",
       "  'avg': 81.33333333333333}]"
      ]
     },
     "execution_count": 34,
     "metadata": {},
     "output_type": "execute_result"
    }
   ],
   "source": [
    "list_students"
   ]
  },
  {
   "cell_type": "code",
   "execution_count": 36,
   "metadata": {},
   "outputs": [
    {
     "data": {
      "text/plain": [
       "{'name': 'yazhini',\n",
       " 'maths': 80,\n",
       " 'science': 88,\n",
       " 'english': 76,\n",
       " 'avg': 81.33333333333333}"
      ]
     },
     "execution_count": 36,
     "metadata": {},
     "output_type": "execute_result"
    }
   ],
   "source": [
    "def f(e):\n",
    "    return e['avg']\n",
    "max(list_students,key=f)"
   ]
  },
  {
   "cell_type": "code",
   "execution_count": null,
   "metadata": {},
   "outputs": [],
   "source": [
    "######reversing key value in dictionary\n"
   ]
  },
  {
   "cell_type": "code",
   "execution_count": 42,
   "metadata": {},
   "outputs": [],
   "source": [
    "db = { 'a':20, 'b':20, 'c':22 , 'd':20}"
   ]
  },
  {
   "cell_type": "code",
   "execution_count": 43,
   "metadata": {},
   "outputs": [
    {
     "data": {
      "text/plain": [
       "{'a': 20, 'b': 20, 'c': 22, 'd': 20}"
      ]
     },
     "execution_count": 43,
     "metadata": {},
     "output_type": "execute_result"
    }
   ],
   "source": [
    "db"
   ]
  },
  {
   "cell_type": "code",
   "execution_count": 45,
   "metadata": {},
   "outputs": [],
   "source": [
    "newdb = {}"
   ]
  },
  {
   "cell_type": "code",
   "execution_count": 46,
   "metadata": {},
   "outputs": [],
   "source": [
    "for k,v in db.items():\n",
    "    #if v is appearing first time as a key\n",
    "    if v not in newdb:\n",
    "        newdb[v] = k\n",
    "    #If v is appearing not first time as a key\n",
    "    else:\n",
    "        #If value is not yet a list, create one\n",
    "        if not isinstance(newdb[v], list):\n",
    "            temp = newdb[v]\n",
    "            newdb[v] = [temp,k]\n",
    "        #If value is a list, append k here\n",
    "        else:\n",
    "            newdb[v].append(k)"
   ]
  },
  {
   "cell_type": "code",
   "execution_count": 47,
   "metadata": {},
   "outputs": [
    {
     "data": {
      "text/plain": [
       "{20: ['a', 'b', 'd'], 22: 'c'}"
      ]
     },
     "execution_count": 47,
     "metadata": {},
     "output_type": "execute_result"
    }
   ],
   "source": [
    "newdb"
   ]
  },
  {
   "cell_type": "code",
   "execution_count": null,
   "metadata": {},
   "outputs": [],
   "source": []
  }
 ],
 "metadata": {
  "kernelspec": {
   "display_name": "Python 3",
   "language": "python",
   "name": "python3"
  },
  "language_info": {
   "codemirror_mode": {
    "name": "ipython",
    "version": 3
   },
   "file_extension": ".py",
   "mimetype": "text/x-python",
   "name": "python",
   "nbconvert_exporter": "python",
   "pygments_lexer": "ipython3",
   "version": "3.7.4"
  }
 },
 "nbformat": 4,
 "nbformat_minor": 2
}
