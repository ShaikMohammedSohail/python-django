{
 "cells": [
  {
   "cell_type": "code",
   "execution_count": 3,
   "metadata": {},
   "outputs": [],
   "source": [
    "s = {10,20,30,40}"
   ]
  },
  {
   "cell_type": "code",
   "execution_count": 5,
   "metadata": {},
   "outputs": [
    {
     "name": "stdout",
     "output_type": "stream",
     "text": [
      "<class 'dict'>\n"
     ]
    }
   ],
   "source": [
    "s = {}\n",
    "print(type(s))"
   ]
  },
  {
   "cell_type": "code",
   "execution_count": 7,
   "metadata": {},
   "outputs": [
    {
     "name": "stdout",
     "output_type": "stream",
     "text": [
      "<class 'set'>\n"
     ]
    }
   ],
   "source": [
    "s = set()\n",
    "print(type(s))"
   ]
  },
  {
   "cell_type": "code",
   "execution_count": 9,
   "metadata": {},
   "outputs": [
    {
     "name": "stdout",
     "output_type": "stream",
     "text": [
      "{40, 10, 50, 20, 60, 30}\n"
     ]
    }
   ],
   "source": [
    "s = {10,20,30,40,50,50,50,60,40,20,20}\n",
    "print(s)"
   ]
  },
  {
   "cell_type": "code",
   "execution_count": 11,
   "metadata": {},
   "outputs": [
    {
     "name": "stdout",
     "output_type": "stream",
     "text": [
      "{40, 10, 50, 20, 60, 30}\n",
      "[10, 20, 30, 40, 50, 60]\n"
     ]
    }
   ],
   "source": [
    "s = {10,10,20,30,40,50,60}\n",
    "print(s)\n",
    "l = sorted(s)\n",
    "print(l)"
   ]
  },
  {
   "cell_type": "code",
   "execution_count": 13,
   "metadata": {},
   "outputs": [
    {
     "name": "stdout",
     "output_type": "stream",
     "text": [
      "{70, 40, 10, 80, 50, 20, 90, 60, 30}\n",
      "{40, 10, 50, 20, 60, 30}\n",
      "{70, 40, 80, 50, 90, 60}\n"
     ]
    }
   ],
   "source": [
    "s1 = {10,20,30,40,50,60}\n",
    "s2 = {40,50,60,70,80,90}\n",
    "s3 = s2.union(s1)\n",
    "print(s3)\n",
    "print(s1)\n",
    "print(s2)"
   ]
  },
  {
   "cell_type": "code",
   "execution_count": 15,
   "metadata": {},
   "outputs": [
    {
     "name": "stdout",
     "output_type": "stream",
     "text": [
      "{40, 50, 60}\n"
     ]
    }
   ],
   "source": [
    "s3 = s1.intersection(s2)\n",
    "print(s3)"
   ]
  },
  {
   "cell_type": "code",
   "execution_count": 17,
   "metadata": {},
   "outputs": [
    {
     "name": "stdout",
     "output_type": "stream",
     "text": [
      "{80, 90, 70}\n"
     ]
    }
   ],
   "source": [
    "s3 = s2.difference(s1)\n",
    "print(s3)"
   ]
  },
  {
   "cell_type": "code",
   "execution_count": 19,
   "metadata": {},
   "outputs": [
    {
     "name": "stdout",
     "output_type": "stream",
     "text": [
      "{70, 10, 80, 20, 90, 30}\n"
     ]
    }
   ],
   "source": [
    "s3 = s2.symmetric_difference(s1)\n",
    "print(s3)"
   ]
  },
  {
   "cell_type": "code",
   "execution_count": 20,
   "metadata": {},
   "outputs": [
    {
     "name": "stdout",
     "output_type": "stream",
     "text": [
      "True\n",
      "True\n"
     ]
    }
   ],
   "source": [
    "s= {10,20,30,40,50}\n",
    "s1 = {10,20,30}\n",
    "print(s1.issubset(s))\n",
    "print(s.issuperset(s1))"
   ]
  },
  {
   "cell_type": "code",
   "execution_count": 22,
   "metadata": {},
   "outputs": [
    {
     "name": "stdout",
     "output_type": "stream",
     "text": [
      "True\n"
     ]
    }
   ],
   "source": [
    "l1 = [10,20,30,40,50,60]\n",
    "l2 = [10,20,30]\n",
    "\n",
    "s1 = set(l1)\n",
    "s2 = set(l2)\n",
    "\n",
    "print(s2.issubset(s1))"
   ]
  },
  {
   "cell_type": "code",
   "execution_count": 24,
   "metadata": {},
   "outputs": [
    {
     "name": "stdout",
     "output_type": "stream",
     "text": [
      "{70, 40, 10, 80, 50, 20, 90, 60, 30}\n"
     ]
    }
   ],
   "source": [
    "s1 = {10,20,30,40,50,60}\n",
    "s2 = {40,50,60,70,80,90}\n",
    "\n",
    "s1.update(s2)\n",
    "print(s1)"
   ]
  },
  {
   "cell_type": "code",
   "execution_count": 26,
   "metadata": {},
   "outputs": [
    {
     "name": "stdout",
     "output_type": "stream",
     "text": [
      "{40, 50, 60}\n"
     ]
    }
   ],
   "source": [
    "s1 = {10,20,30,40,50,60}\n",
    "s2 = {40,50,60,70,80,90}\n",
    "\n",
    "s1.intersection_update(s2)\n",
    "print(s1)"
   ]
  },
  {
   "cell_type": "code",
   "execution_count": 28,
   "metadata": {},
   "outputs": [
    {
     "name": "stdout",
     "output_type": "stream",
     "text": [
      "{10, 20, 30}\n"
     ]
    }
   ],
   "source": [
    "s1 = {10,20,30,40,50,60}\n",
    "s2 = {40,50,60,70,80,90}\n",
    "\n",
    "s1.difference_update(s2)\n",
    "print(s1)"
   ]
  },
  {
   "cell_type": "code",
   "execution_count": 30,
   "metadata": {},
   "outputs": [
    {
     "name": "stdout",
     "output_type": "stream",
     "text": [
      "{70, 10, 80, 20, 90, 30}\n"
     ]
    }
   ],
   "source": [
    "s1 = {10,20,30,40,50,60}\n",
    "s2 = {40,50,60,70,80,90}\n",
    "\n",
    "s1.symmetric_difference_update(s2)\n",
    "print(s1)"
   ]
  },
  {
   "cell_type": "code",
   "execution_count": 32,
   "metadata": {},
   "outputs": [
    {
     "name": "stdout",
     "output_type": "stream",
     "text": [
      "{40, 10, 50, 20, 30}\n"
     ]
    }
   ],
   "source": [
    "s = {10,20,30,40}\n",
    "s.add(50)\n",
    "print(s)"
   ]
  },
  {
   "cell_type": "code",
   "execution_count": 34,
   "metadata": {},
   "outputs": [
    {
     "name": "stdout",
     "output_type": "stream",
     "text": [
      "40\n",
      "10\n",
      "20\n",
      "30\n"
     ]
    }
   ],
   "source": [
    "s = {10,20,30,40}\n",
    "for value in s:\n",
    "    print(value)"
   ]
  },
  {
   "cell_type": "code",
   "execution_count": 36,
   "metadata": {},
   "outputs": [
    {
     "name": "stdout",
     "output_type": "stream",
     "text": [
      "{40, 10, 50, 20, 60, 30}\n",
      "{10, 50, 20, 60, 30} 40\n"
     ]
    }
   ],
   "source": [
    "s = {10,20,30,40,50,60}\n",
    "print(s)\n",
    "r = s.pop()\n",
    "print(s,r)"
   ]
  },
  {
   "cell_type": "code",
   "execution_count": 38,
   "metadata": {},
   "outputs": [
    {
     "name": "stdout",
     "output_type": "stream",
     "text": [
      "{40, 10, 50, 20, 60}\n"
     ]
    }
   ],
   "source": [
    "s = {10,20,30,40,50,60,20,20}\n",
    "s.remove(30)\n",
    "print(s)"
   ]
  },
  {
   "cell_type": "code",
   "execution_count": 39,
   "metadata": {},
   "outputs": [
    {
     "name": "stdout",
     "output_type": "stream",
     "text": [
      "{40, 10, 50, 20, 60, 30}\n",
      "{40, 10, 50, 20, 60, 30}\n"
     ]
    }
   ],
   "source": [
    "s = {10,20,30,40,50,60,20,20}\n",
    "print(s)\n",
    "s.discard(300)\n",
    "print(s)"
   ]
  },
  {
   "cell_type": "code",
   "execution_count": 41,
   "metadata": {},
   "outputs": [],
   "source": [
    "s = {10,20,30,40,50,60,20,20}\n",
    "s.clear()"
   ]
  },
  {
   "cell_type": "code",
   "execution_count": 43,
   "metadata": {},
   "outputs": [
    {
     "name": "stdout",
     "output_type": "stream",
     "text": [
      "{65, 100, 200, 41, 10, 74, 45, 14, 20, 85, 25}\n",
      "[10, 14, 20, 25, 41, 45, 65, 74, 85, 100, 200]\n"
     ]
    }
   ],
   "source": [
    "l1 = [10,10,20,25,45,85,41,20,14]\n",
    "l2 = [100,200,45,74,85,65,20,10]\n",
    "\n",
    "s1 = set(l1)\n",
    "s2 = set(l2)\n",
    "\n",
    "s1.update(s2)\n",
    "print(s1)\n",
    "l3 = sorted(s1)\n",
    "print(l3)"
   ]
  },
  {
   "cell_type": "code",
   "execution_count": 45,
   "metadata": {},
   "outputs": [
    {
     "name": "stdout",
     "output_type": "stream",
     "text": [
      "{'f', 'r', 'c', 'q', 'a'}\n",
      "q is present max no of times and the count is 21\n"
     ]
    }
   ],
   "source": [
    "s = \"arrcaaaaccffffqqqqqqqqqqqqqqqqqqqqq\"\n",
    "s1 = set(s)\n",
    "print(s1)\n",
    "max_count = 0\n",
    "max_char = \"\"\n",
    "\n",
    "for value in s1:\n",
    "    if s.count(value) > max_count:\n",
    "        max_count = s.count(value)\n",
    "        max_char = value\n",
    "print(\"{char} is present max no of times and the count is {count}\".format(char = max_char,count = max_count))"
   ]
  },
  {
   "cell_type": "code",
   "execution_count": null,
   "metadata": {},
   "outputs": [],
   "source": [
    "# random variables in python"
   ]
  },
  {
   "cell_type": "code",
   "execution_count": 46,
   "metadata": {},
   "outputs": [],
   "source": [
    "import random"
   ]
  },
  {
   "cell_type": "code",
   "execution_count": 49,
   "metadata": {},
   "outputs": [
    {
     "name": "stdout",
     "output_type": "stream",
     "text": [
      "0.3221155056942192\n"
     ]
    }
   ],
   "source": [
    "print(random.random())\n"
   ]
  },
  {
   "cell_type": "code",
   "execution_count": 51,
   "metadata": {},
   "outputs": [
    {
     "name": "stdout",
     "output_type": "stream",
     "text": [
      "6\n"
     ]
    }
   ],
   "source": [
    "dice = [1,2,3,4,5,6]\n",
    "print(random.choice(dice))"
   ]
  },
  {
   "cell_type": "code",
   "execution_count": 53,
   "metadata": {},
   "outputs": [
    {
     "name": "stdout",
     "output_type": "stream",
     "text": [
      "14\n",
      "15\n"
     ]
    }
   ],
   "source": [
    "print(random.randint(10,20)) # inclusive\n",
    "print(random.randrange(10,20)) # exclusive"
   ]
  },
  {
   "cell_type": "code",
   "execution_count": 55,
   "metadata": {},
   "outputs": [
    {
     "name": "stdout",
     "output_type": "stream",
     "text": [
      "16.263689750151258\n"
     ]
    }
   ],
   "source": [
    "print(random.uniform(10,20))"
   ]
  },
  {
   "cell_type": "code",
   "execution_count": 68,
   "metadata": {},
   "outputs": [
    {
     "name": "stdout",
     "output_type": "stream",
     "text": [
      "Ob$25910\n",
      "501$9Ob2\n"
     ]
    }
   ],
   "source": [
    "#random password generation:\n",
    "\n",
    "import random\n",
    "upper = chr(random.randint(ord(\"A\"),ord(\"Z\")))\n",
    "lower = chr(random.randint(ord(\"a\"),ord(\"z\")))\n",
    "\n",
    "chars = ['!','@','#','$','&']\n",
    "special_char = random.choice(chars)\n",
    "digits = random.randint(10000,99999)\n",
    "\n",
    "temp_pass = upper + lower + special_char + str(digits)\n",
    "print(temp_pass)\n",
    "l = random.sample(temp_pass,8)\n",
    "password = (\"\").join(l)\n",
    "print(password)"
   ]
  },
  {
   "cell_type": "code",
   "execution_count": 71,
   "metadata": {},
   "outputs": [
    {
     "name": "stdout",
     "output_type": "stream",
     "text": [
      "['t', 'h', 'y']\n"
     ]
    }
   ],
   "source": [
    "s = \"python\"\n",
    "l = random.sample(s,3)\n",
    "print(l)"
   ]
  },
  {
   "cell_type": "code",
   "execution_count": 73,
   "metadata": {},
   "outputs": [
    {
     "name": "stdout",
     "output_type": "stream",
     "text": [
      "150\n",
      "10\n",
      "50\n"
     ]
    }
   ],
   "source": [
    "# sum min max round:\n",
    "l = [10,20,30,40,50]\n",
    "print(sum(l))\n",
    "print(min(l))\n",
    "print(max(l))"
   ]
  },
  {
   "cell_type": "code",
   "execution_count": 74,
   "metadata": {},
   "outputs": [
    {
     "name": "stdout",
     "output_type": "stream",
     "text": [
      "45.56\n"
     ]
    }
   ],
   "source": [
    "num = 45.5555\n",
    "print(round(num,2))"
   ]
  },
  {
   "cell_type": "code",
   "execution_count": 76,
   "metadata": {},
   "outputs": [
    {
     "name": "stdout",
     "output_type": "stream",
     "text": [
      "['__doc__', '__loader__', '__name__', '__package__', '__spec__', 'acos', 'acosh', 'asin', 'asinh', 'atan', 'atan2', 'atanh', 'ceil', 'copysign', 'cos', 'cosh', 'degrees', 'e', 'erf', 'erfc', 'exp', 'expm1', 'fabs', 'factorial', 'floor', 'fmod', 'frexp', 'fsum', 'gamma', 'gcd', 'hypot', 'inf', 'isclose', 'isfinite', 'isinf', 'isnan', 'ldexp', 'lgamma', 'log', 'log10', 'log1p', 'log2', 'modf', 'nan', 'pi', 'pow', 'radians', 'remainder', 'sin', 'sinh', 'sqrt', 'tan', 'tanh', 'tau', 'trunc']\n"
     ]
    }
   ],
   "source": [
    "# maths in python\n",
    "import math\n",
    "print(dir(math))"
   ]
  },
  {
   "cell_type": "code",
   "execution_count": 78,
   "metadata": {},
   "outputs": [
    {
     "name": "stdout",
     "output_type": "stream",
     "text": [
      "0.5\n"
     ]
    }
   ],
   "source": [
    "print(round(math.sin(math.radians(30)),2))"
   ]
  },
  {
   "cell_type": "code",
   "execution_count": 79,
   "metadata": {},
   "outputs": [
    {
     "name": "stdout",
     "output_type": "stream",
     "text": [
      "3.3219280948873626\n"
     ]
    }
   ],
   "source": [
    "print(math.log(10,2))"
   ]
  },
  {
   "cell_type": "code",
   "execution_count": 81,
   "metadata": {},
   "outputs": [
    {
     "name": "stdout",
     "output_type": "stream",
     "text": [
      "3.141592653589793\n"
     ]
    }
   ],
   "source": [
    "print(math.pi)"
   ]
  },
  {
   "cell_type": "code",
   "execution_count": 83,
   "metadata": {},
   "outputs": [
    {
     "name": "stdout",
     "output_type": "stream",
     "text": [
      "(0.5549999999999997, 45.0)\n"
     ]
    }
   ],
   "source": [
    "num1 = 45.555\n",
    "print(math.modf(num1))"
   ]
  },
  {
   "cell_type": "code",
   "execution_count": 84,
   "metadata": {},
   "outputs": [
    {
     "name": "stdout",
     "output_type": "stream",
     "text": [
      "5.0\n"
     ]
    }
   ],
   "source": [
    "print(math.sqrt(25))"
   ]
  }
 ],
 "metadata": {
  "kernelspec": {
   "display_name": "Python 3",
   "language": "python",
   "name": "python3"
  },
  "language_info": {
   "codemirror_mode": {
    "name": "ipython",
    "version": 3
   },
   "file_extension": ".py",
   "mimetype": "text/x-python",
   "name": "python",
   "nbconvert_exporter": "python",
   "pygments_lexer": "ipython3",
   "version": "3.7.4"
  }
 },
 "nbformat": 4,
 "nbformat_minor": 2
}
