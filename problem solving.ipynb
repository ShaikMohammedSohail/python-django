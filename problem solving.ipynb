{
 "cells": [
  {
   "cell_type": "code",
   "execution_count": 1,
   "metadata": {},
   "outputs": [
    {
     "name": "stdout",
     "output_type": "stream",
     "text": [
      "[8]\n"
     ]
    }
   ],
   "source": [
    "# program to find missing elements in a list\n",
    "\n",
    "\n",
    "input_nums = [1,2,3,4,5,6,7,9,10]\n",
    "all_nums = list(range(1,11))\n",
    "missing_elements = []\n",
    "\n",
    "for value in all_nums:\n",
    "    if value not in input_nums:        \n",
    "        missing_elements.append(value)\n",
    "print(missing_elements)"
   ]
  },
  {
   "cell_type": "code",
   "execution_count": 2,
   "metadata": {},
   "outputs": [
    {
     "name": "stdout",
     "output_type": "stream",
     "text": [
      "8.0\n"
     ]
    }
   ],
   "source": [
    "input_nums = [1,2,3,4,5,6,7,9,10]\n",
    "n = 10 \n",
    "expected_sum = n * (n + 1) / 2\n",
    "actual_sum = sum(input_nums)\n",
    "missing_element =  expected_sum - actual_sum\n",
    "print(missing_element)"
   ]
  },
  {
   "cell_type": "code",
   "execution_count": 4,
   "metadata": {},
   "outputs": [
    {
     "name": "stdout",
     "output_type": "stream",
     "text": [
      "eqi element is present at index 4 and value is 5\n"
     ]
    }
   ],
   "source": [
    "#2.Find an element in array such that sum of left array is equal to sum of right array.\n",
    "\n",
    "\n",
    "l = [1,2,1,1,5,1,4]\n",
    "for index,value in enumerate(l[1:]):\n",
    "\n",
    "    if sum(l[:index]) == sum(l[index + 1:]):\n",
    "        \n",
    "        print(\"eqi element is present at index {} and value is {}\".format(index,l[index]))\n",
    "        break\n",
    "\n"
   ]
  },
  {
   "cell_type": "code",
   "execution_count": null,
   "metadata": {},
   "outputs": [],
   "source": [
    "3.Given 3 strings: first, second, and third.Third String is said to be a shuffle of first and second if it can be formed by interleaving the characters of first and second String in a way that maintains the left to right ordering of the characters from each string.\n",
    "\n",
    "For example, given first = \"abc\" and second = \"def\", third = \"dabecf\" is a valid shuffle since it preserves the character ordering of the two strings. So, given these 3 strings write a program that detects whether the third String is a valid shuffle of first and second String\n"
   ]
  },
  {
   "cell_type": "code",
   "execution_count": 6,
   "metadata": {},
   "outputs": [
    {
     "name": "stdout",
     "output_type": "stream",
     "text": [
      "Not a valid shuffle\n"
     ]
    }
   ],
   "source": [
    "s1 = \"abc\"\n",
    "s2 = \"def\"\n",
    "\n",
    "s3 = \"edabfc\"\n",
    "\n",
    "# 1 Iterate over s3 \n",
    "# 2. Check if char is present in S1 or S2 \n",
    "# 3. s1_pointer = 1 s2_pointer = 1 \n",
    "s1_pointer = s2_pointer = 0\n",
    "s3_index = 0\n",
    "while s3_index < len(s3):\n",
    "    \n",
    "    if s3[s3_index] in s1 and s1[s1_pointer] == s3[s3_index]:\n",
    "        s1_pointer+=1      \n",
    "        \n",
    "    elif s3[s3_index] in s2 and s2[s2_pointer] == s3[s3_index]:\n",
    "         s2_pointer+=1\n",
    "    else:\n",
    "        print(\"Not a valid shuffle\")\n",
    "        break\n",
    "    s3_index+=1\n",
    "else:\n",
    "    print(\"Valid shuffle\")"
   ]
  },
  {
   "cell_type": "code",
   "execution_count": null,
   "metadata": {},
   "outputs": [],
   "source": []
  }
 ],
 "metadata": {
  "kernelspec": {
   "display_name": "Python 3",
   "language": "python",
   "name": "python3"
  },
  "language_info": {
   "codemirror_mode": {
    "name": "ipython",
    "version": 3
   },
   "file_extension": ".py",
   "mimetype": "text/x-python",
   "name": "python",
   "nbconvert_exporter": "python",
   "pygments_lexer": "ipython3",
   "version": "3.7.4"
  }
 },
 "nbformat": 4,
 "nbformat_minor": 2
}
