{
 "cells": [
  {
   "cell_type": "code",
   "execution_count": 1,
   "metadata": {},
   "outputs": [
    {
     "name": "stdout",
     "output_type": "stream",
     "text": [
      "please enter a number:9999335533\n",
      "You have entered: 9999335533\n",
      "zeke\n"
     ]
    }
   ],
   "source": [
    "# 1.In the pre-smartphone era,each number key is assigned a subset of the alphabet {a,b,…,z}.\n",
    "\n",
    "# 2 is assigned {a,b,c},\n",
    "# 3 is assigned {d,e,f}\n",
    "# 4 is assigned {g,h,i}\n",
    "# 5 is assigned {j,k,l}\n",
    "# 6 is assigned {m,n,o}\n",
    "# 7 is assigned {p,q,r,s}\n",
    "# 8 is assigned {t,u,v}\n",
    "# 9 is assigned {w,x,y,z}\n",
    "# Write a function numbers_to_chars() to find the characters generated using key 9999335533. Output should be \"zeke\"\n",
    "\n",
    "# Function Name : numbers_to_chars() Input : Integer number sequence Output : Str     \n",
    "\n",
    "\n",
    "def numbers_to_chars(num1):\n",
    "  arr =[]\n",
    "  str1 = \"\"\n",
    "  while (num1 > 0):\n",
    "       arr.append(num1%10)\n",
    "       num1 = int(num1/10)\n",
    "  arr = arr[::-1]\n",
    "  count = int(0)\n",
    "  curr = arr[0]\n",
    "  maxi = len(arr)\n",
    "  alpha = [[\" \"],['.',','],[\"a\",\"b\",\"c\"],[\"d\",\"e\",\"f\"],[\"g\",\"h\",\"i\"],[\"j\",\"k\",\"l\"],[\"m\",\"n\",\"o\"],[\"p\",\"q\",\"r\",\"s\"],[\"t\",\"u\",\"v\"],[\"w\",\"x\",\"y\",\"z\"]]\n",
    "  for i in range(1,maxi,1):\n",
    "         if (curr == arr[i]):\n",
    "             count += 1\n",
    "         if (curr != arr[i]):\n",
    "             str1 = str1+alpha[(curr)][count]\n",
    "             curr = arr[i]\n",
    "             count = 0\n",
    "         if (i == (maxi-1)):\n",
    "             str1 = str1+alpha[(curr)][count]\n",
    "  return(str1)\n",
    "num = int(input(\"please enter a number:\"))\n",
    "print(\"You have entered: \" +str(num))\n",
    "print(numbers_to_chars(num))"
   ]
  },
  {
   "cell_type": "code",
   "execution_count": 54,
   "metadata": {},
   "outputs": [
    {
     "name": "stdout",
     "output_type": "stream",
     "text": [
      "Output : {'Bombay': 'Delhi', 'Delhi': 'Goa', 'Goa': 'Chennai', 'Chennai': 'Banglore'}\n"
     ]
    }
   ],
   "source": [
    "# 2.Given a dict of tickets(\"to\":\"from\")\n",
    "\n",
    "# {\"Chennai\":\"Banglore\",\"Bombay\":\"Delhi\",\"Goa\":\"Chennai\",\"Delhi\":\"Goa\"} find out the sequence of travel.\n",
    "\n",
    "# Expected Output : Bombay->Delhi, Delhi->Goa, Goa->Chennai, Chennai->Banglore\n",
    "\n",
    "# Function Name : travel_sequence Input : dict Output : dict\n",
    "\n",
    "# In [3]:\n",
    "\n",
    "def travel_sequence(d):\n",
    "    d2 = {}\n",
    "\n",
    "    source = [k for k in d.keys() if k not in d.values()]\n",
    "    src = source[0]\n",
    "\n",
    "    for i in range(len(d)):\n",
    "        d2[src] = d[src]\n",
    "        src = d[src]\n",
    "    return d2\n",
    "\n",
    "d = {\"Chennai\":\"Banglore\",\"Bombay\":\"Delhi\",\"Goa\":\"Chennai\",\"Delhi\":\"Goa\"}\n",
    "print(\"Output :\",travel_sequence(d))\n"
   ]
  },
  {
   "cell_type": "code",
   "execution_count": 3,
   "metadata": {},
   "outputs": [
    {
     "name": "stdout",
     "output_type": "stream",
     "text": [
      "{'Chicago': ['Illinois'], 'Boston': ['Massachusetts'], 'Springfield': ['Massachusetts', 'Illinois'], 'Hanover': ['New Hampshire'], 'Concord': ['New Hampshire', 'Massachusetts'], 'Peoria': ['Illinois']}\n"
     ]
    }
   ],
   "source": [
    "#3.Given a dictionary that associates the names of states with a list of the names of cities that appear in it,write a program that creates a new dictionary that associates the name of a city with the list of states that it appears in.\n",
    "\n",
    "#As an example, if the first dictionary is\n",
    "\n",
    "#Input : states = {'New Hampshire': ['Concord', 'Hanover'],\n",
    "\n",
    "#'Massachusetts': ['Boston', 'Concord', 'Springfield'],\n",
    "\n",
    "#'Illinois': ['Chicago', 'Springfield', 'Peoria'] }\n",
    "\n",
    "#Output:\n",
    "\n",
    "#cities = {'Hanover': ['New Hampshire'],\n",
    "\n",
    "#'Chicago': ['Illinois'],'Boston': ['Massachusetts'],\n",
    "\n",
    "#'Peoria': ['Illinois'],'Concord': ['New Hampshire','Massachusetts'],\n",
    "\n",
    "#'Springfield': ['Massachusetts', 'Illinois'] }\n",
    "\n",
    "#Function Name : city_with_states Input : dict Output : dict\n",
    "\n",
    "\n",
    "\n",
    "import re\n",
    "\n",
    "def city_with_states(states):\n",
    "    statesList = states.keys()\n",
    "    citiesList = list(set([item for sublist in [states[x] for x in statesList] for item in sublist]))\n",
    "    cities = {}\n",
    "    for city in citiesList:\n",
    "        cities[city] = []\n",
    "        for state in states:\n",
    "            if True if city in states[state] else False:\n",
    "                cities[city].append(state)\n",
    "    return cities\n",
    "\n",
    "states =  {\n",
    "    'New Hampshire': ['Concord', 'Hanover'],\n",
    "    'Massachusetts': ['Boston', 'Concord', 'Springfield'],\n",
    "    'Illinois': ['Chicago', 'Springfield', 'Peoria']\n",
    "}\n",
    "\n",
    "print(city_with_states((states)))"
   ]
  },
  {
   "cell_type": "code",
   "execution_count": 6,
   "metadata": {},
   "outputs": [
    {
     "name": "stdout",
     "output_type": "stream",
     "text": [
      "True\n",
      "False\n",
      "True\n"
     ]
    }
   ],
   "source": [
    "\n",
    "#4.How do you check if a given String contains valid parentheses? Given a string containing just the characters '(', ')', '{', '}', '[' and ']', write a program in python to check if the input string is valid. The brackets must close in the correct order, \"()\" and \"()[]{}\" are all valid but \"(]\" and \"([)]\" are not.\n",
    "\n",
    "#Function Name : check_parentheses Input : str Output : True/False\n",
    "\n",
    "class py_solution:\n",
    "   def is_valid_parenthese(self, str1):\n",
    "        stack, pchar = [], {\"(\": \")\", \"{\": \"}\", \"[\": \"]\"}\n",
    "        for parenthese in str1:\n",
    "            if parenthese in pchar:\n",
    "                stack.append(parenthese)\n",
    "            elif len(stack) == 0 or pchar[stack.pop()] != parenthese:\n",
    "                return False\n",
    "        return len(stack) == 0\n",
    "\n",
    "print(py_solution().is_valid_parenthese(\"(){}[]\"))\n",
    "print(py_solution().is_valid_parenthese(\"()[{)}\"))\n",
    "print(py_solution().is_valid_parenthese(\"()\"))"
   ]
  },
  {
   "cell_type": "code",
   "execution_count": 8,
   "metadata": {},
   "outputs": [
    {
     "name": "stdout",
     "output_type": "stream",
     "text": [
      "Please Enter a Number:10\n",
      "X\n"
     ]
    }
   ],
   "source": [
    "\n",
    "#5.Write a program to convert Integer to Roman String. For example, if a given integer is 5 then your program should print \"V\".\n",
    "\n",
    "#Function Name : int_roman Input : int Output : str\n",
    "\n",
    "\n",
    "def int_to_Roman(num):\n",
    "        val = [\n",
    "            1000, 900, 500, 400,\n",
    "            100, 90, 50, 40,\n",
    "            10, 9, 5, 4,\n",
    "            1\n",
    "            ]\n",
    "        syb = [\n",
    "            \"M\", \"CM\", \"D\", \"CD\",\n",
    "            \"C\", \"XC\", \"L\", \"XL\",\n",
    "            \"X\", \"IX\", \"V\", \"IV\",\n",
    "            \"I\"\n",
    "            ]\n",
    "        roman_num = ''\n",
    "        i = 0\n",
    "        while  num > 0:\n",
    "            for _ in range(num // val[i]):\n",
    "                roman_num += syb[i]\n",
    "                num -= val[i]\n",
    "            i += 1\n",
    "        return roman_num\n",
    "\n",
    "num1 = int(input(\"Please Enter a Number:\"))\n",
    "print(int_to_Roman(num1))"
   ]
  },
  {
   "cell_type": "code",
   "execution_count": 10,
   "metadata": {},
   "outputs": [
    {
     "name": "stdout",
     "output_type": "stream",
     "text": [
      "10\n"
     ]
    }
   ],
   "source": [
    "#6.Write a program utility that counts the number of lines of actual python code in a. For the purpose of this exercise, a line is counted if it contains something other than whitespace or text in a comment.\n",
    "\n",
    "#remember that comment start sequences that appear inside python strings should be ignored.\n",
    "\n",
    "#Function Name : count_code_lines Input : str Output : int\n",
    "\n",
    "\n",
    "def count_code_lines(context):\n",
    "    lines = [x for x in [x for x in context.split('\\n') if not x.startswith('#')] if x!='']\n",
    "    return len(lines)\n",
    "\n",
    "input_code = \"\"\"\n",
    "#Linear search implementation\n",
    "#Takes list and a key as input and returns True or False as answer\n",
    "def linear_saerch(l,key):\n",
    "    for value in l:\n",
    "        if key == value:\n",
    "            return True #Return True is key exist\n",
    "    else:\n",
    "        return False #Return False if key does not exist\n",
    "\n",
    "l = [100,200,300,400,500,600]\n",
    "key = 500\n",
    "result = linear_search(l,key)\n",
    "print(result)\n",
    "\"\"\"\n",
    "\n",
    "print(count_code_lines(input_code))"
   ]
  },
  {
   "cell_type": "code",
   "execution_count": 9,
   "metadata": {},
   "outputs": [
    {
     "name": "stdout",
     "output_type": "stream",
     "text": [
      "(True, 'Strong')\n"
     ]
    }
   ],
   "source": [
    "#7.Write a program to check the strength of a supplied password\n",
    "\n",
    "#The length of the password must be at least 8 characters in length The password must contain at least 1 capital letter The password must contain at least 1 digit The password must contain at least 1 special character and allowed special characters are (!,@,#,$,&)\n",
    "\n",
    "#We need to provide feedback to the user about the strength of their password\n",
    "\n",
    "#Provide the user with a list of reasons why their password is 'weak' Function Name : check_password_strength Input : str Output : tuple (str,list) eg (\"Weak\",[\"The password must contain at least 1 capital letter\"])\n",
    "\n",
    "import re\n",
    "\n",
    "def check_password_strength(password):\n",
    "    valid = True\n",
    "    passwordInfo = []\n",
    "    if (password == password.title()):\n",
    "        passwordInfo.append('Sentence must start with a Uppercase character')\n",
    "        valid = False\n",
    "    if (len(password) < 8):\n",
    "        passwordInfo.append('Length Of Sentence Greater Than 8 Characters ')\n",
    "        valid = False\n",
    "    if not re.search(\"[a-z]\", password):\n",
    "        passwordInfo.append('Sentence must contain Lower Case alphabet')\n",
    "        valid = False\n",
    "    if not re.search(\"[A-Z]\", password):\n",
    "        passwordInfo.append('Sentence must contain Uppercase case alphabet')\n",
    "        valid = False\n",
    "    if not re.search(\"[0-9]\", password):\n",
    "        passwordInfo.append('Sentence must contain numeric value alphabet')\n",
    "        valid = False\n",
    "    if not re.search(\"[_@!#&$]\", password):\n",
    "        passwordInfo.append('Sentence must one Special character (!,@,#,$,&)')\n",
    "        valid = False\n",
    "    if not re.search(\"\\s\", password):\n",
    "        passwordInfo.append('Sentence must Contain Spaces')\n",
    "        valid = False\n",
    "    if valid:\n",
    "        if len(password) in range(8, 10):\n",
    "            return (True,('Weak'))\n",
    "        else:\n",
    "            return (True,('Strong'))\n",
    "    else:\n",
    "        if len(password) in range(8, 10):\n",
    "            return (False,('Weak', passwordInfo))\n",
    "        else:\n",
    "            return (False,('Strong', passwordInfo))\n",
    "\n",
    "print(check_password_strength(\"Abcd$ fh2lih\"))\n",
    "\n"
   ]
  },
  {
   "cell_type": "code",
   "execution_count": 3,
   "metadata": {},
   "outputs": [],
   "source": [
    "#8.Check if given sentence is syntactically correct or not\n",
    "\n",
    "#A simple sentence if syntactically correct if it fulfills given rules. The following are given rules.\n",
    "\n",
    "#Sentence must start with a Uppercase character (e.g. Noun/ I/ We/ He etc.)\n",
    "#There must be spaces between words.\n",
    "#Then the sentence must end with a full stop(.).\n",
    "#Two continuous spaces are not allowed.\n",
    "#Two continuous uppercase characters are not allowed.\n",
    "#However the sentence can end after an uppercase character.\n",
    "\n",
    "\n",
    "\n",
    "def checkSentence(string):\n",
    "    \n",
    "    length = len(string) \n",
    "    \n",
    "    if string[0] < 'A' or string[0] > 'Z': \n",
    "        return False\n",
    "\n",
    "    if string[length-1] != '.': \n",
    "        return False\n",
    "\n",
    "    prev_state = 0\n",
    "    curr_state = 0\n",
    "\n",
    "    index = 1\n",
    "    \n",
    "    while (string[index]): \n",
    "\n",
    "        if string[index] >= 'A' and string[index] <= 'Z': \n",
    "            curr_state = 0\n",
    "\n",
    "        elif string[index] == ' ': \n",
    "            curr_state = 1\n",
    " \n",
    "        elif string[index] >= 'a' and string[index] <= 'z': \n",
    "            curr_state = 2\n",
    "\n",
    "        elif string[index] == '.': \n",
    "            curr_state = 3\n",
    "\n",
    "        if prev_state == curr_state and curr_state != 2: \n",
    "            return False\n",
    "\n",
    "        if prev_state == 2 and curr_state == 0: \n",
    "            return False\n",
    " \n",
    "        if curr_state == 3 and prev_state != 1: \n",
    "            return True\n",
    "\n",
    "        index += 1\n",
    "\n",
    "        prev_state = curr_state \n",
    "\n",
    "    return False\n",
    "\n",
    "string = [\"I love cinema.\", \"MY NAME IS SOHAIL.\", \n",
    "          \"I am single.\",\"I lovE cinema.\", \n",
    "          \" You are my friend.\", \"I love cinema\"] \n",
    "\n",
    "string_size = len(string) \n",
    "\n",
    "for i in xrange(string_size): \n",
    "    \n",
    "    if checkSentence(string[i]): \n",
    "        print(\"\\\"\" + string[i] + \"\\\" is correct\")\n",
    "    else: \n",
    "        print(\"\\\"\" + string[i] + \"\\\" is incorrect\")\n",
    "\n",
    " \n"
   ]
  },
  {
   "cell_type": "code",
   "execution_count": 7,
   "metadata": {},
   "outputs": [
    {
     "name": "stdout",
     "output_type": "stream",
     "text": [
      "From [1, 4, 3, 2, 5, 6] the greatest subList is [4, 3, 2, 5]\n",
      "From [1, 4, 3, 2, 5, 6] the greatest subList is [4, 3, 2]\n",
      "From [1, 4, 3, 2, 5, 6] the greatest subList is [5, 6]\n"
     ]
    }
   ],
   "source": [
    "#9.Given an array arr[] of integers and an integer K, the task is to find the greatest contiguous sub-array of size K.\n",
    "\n",
    "#Sub-array X is said to be greater than sub-array Y if the first non-matching element in both the sub-arrays has a greater value in X than in Y.\n",
    "\n",
    "#For example : Input: arr[] = {1, 4, 3, 2, 5}, K = 4 Output: 4 3 2 5 Two subarrays are {1, 4, 3, 2} and {4, 3, 2, 5}. First non-matching element from array1 and array 2 : 1 and 4 as 4 is greater Hence, the greater one is {4, 3, 2, 5}\n",
    "\n",
    "#Function Name : greatest_sub_array() Input : list Output : list\n",
    "            \n",
    "            \n",
    "def greatest_sub_array(l , k):\n",
    "    list_of_sublists = []\n",
    "    for i in range(len(l)):\n",
    "        if len(l[i:i+k]) == k:\n",
    "            list_of_sublists.append(l[i:i+k])\n",
    "        else:\n",
    "            break\n",
    "    max = list_of_sublists[0]\n",
    "    for i in list_of_sublists:\n",
    "        if max[0] < i[0] :\n",
    "            max = i\n",
    "    return \"From {} the greatest subList is {}\".format(l , max)\n",
    "\n",
    "print(greatest_sub_array([1,4,3,2,5,6] ,4))\n",
    "print(greatest_sub_array([1,4,3,2,5,6] ,3))\n",
    "print(greatest_sub_array([1,4,3,2,5,6] ,2))"
   ]
  },
  {
   "cell_type": "code",
   "execution_count": 1,
   "metadata": {},
   "outputs": [
    {
     "name": "stdout",
     "output_type": "stream",
     "text": [
      "(2, [1, 3, 5])\n",
      "(2, [4, 2, 6, 8])\n",
      "(3, [2, 6, 8])\n"
     ]
    }
   ],
   "source": [
    "#10.Given a list of N integers. The task is to eliminate the minimum number of elements such that in the resulting list the sum of any two adjacent values is even.\n",
    "\n",
    "#Numbers = [1, 3, 5, 4, 2] Output = [1, 3, 5] Total elements removed 2 Elements to be removed [4,2]\n",
    "\n",
    "#Function Name : adj_sum_even() Input : list Output : tuple(int,list)\n",
    "            \n",
    "        \n",
    "def adj_sum_even(l):\n",
    "    even_nums = []\n",
    "    odd_nums = []\n",
    "    for i in l:\n",
    "        \n",
    "        if i % 2 == 0:\n",
    "            even_nums.append(i)\n",
    "        else :\n",
    "            odd_nums.append(i)\n",
    "    \n",
    "    if len(odd_nums) > len(even_nums):\n",
    "        return (len(even_nums) , odd_nums)\n",
    "    elif len(odd_nums) == len(even_nums):\n",
    "        return (len(even_nums) ,max(odd_nums ,even_nums))\n",
    "    else:\n",
    "        return (len(odd_nums) , even_nums)\n",
    "\n",
    "print(adj_sum_even([1, 3, 5, 4, 2]))\n",
    "print(adj_sum_even([4, 3, 2, 1, 6, 8]))\n",
    "print(adj_sum_even([1, 3, 5, 2, 6, 8]))"
   ]
  }
 ],
 "metadata": {
  "kernelspec": {
   "display_name": "Python 3",
   "language": "python",
   "name": "python3"
  },
  "language_info": {
   "codemirror_mode": {
    "name": "ipython",
    "version": 3
   },
   "file_extension": ".py",
   "mimetype": "text/x-python",
   "name": "python",
   "nbconvert_exporter": "python",
   "pygments_lexer": "ipython3",
   "version": "3.7.4"
  }
 },
 "nbformat": 4,
 "nbformat_minor": 2
}
